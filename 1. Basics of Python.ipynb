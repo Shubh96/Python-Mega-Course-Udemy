{
 "cells": [
  {
   "cell_type": "markdown",
   "metadata": {},
   "source": [
    "# Setting up Conda"
   ]
  },
  {
   "cell_type": "markdown",
   "metadata": {},
   "source": [
    "Once you've installed anaconda into your machine properly as per the instructions given at [Anaconda Installation Documentation](https://docs.anaconda.com/anaconda/install/), you must be able to see **Anaconda Prompt** as well as **Anaconda Navigator** in your start menu (The notebook content is based on working in *Windows 10 64 bit*). Now it's time thqat you get started with using Anaconda.\n",
    "\n",
    "The first thing you would like to do is setting up an new environment which would be you workspace from now on for python.\n",
    "Before getting into it, you might want to get the latest version of conda installed by running the command `conda update -n base conda` from the anaconda prompt. \n",
    "\n",
    "Now you would like to create a new enviroment for your python workspace. For that navigate to the directory where you want to do that. In my case I had a dedicated directory for the same so I went there using the command `E:` in the anaconda prompt.\n",
    "Now to create a new environment use the command `conda create --name YOUR_ENV_NAME` here YOUR_ENV_NAME is the name that you want to give to you environment. It would ask you whether you want to proceed, so enter **y** there and press enter. Now you environment is created. \n",
    "\n",
    "## Basic commands in CONDA\n",
    "\n",
    "* Check the available enviroments: `conda info --envs` or `conda env list`\n",
    "* Check the packages in an environment: `conda list -n YOUR_ENV_NAME`\n",
    "* Activate an environment: `activate YOUR_ENV_NAME`\n",
    "* Deactivate an environment: `deactivate`\n",
    "* Installing pip inside an environment: `conda install -n YOUR_ENV_NAME pip`\n",
    "\n",
    "There are several other commands available to use which you may like to check out. These are listed below. For futher reference you may check out the [Conda Documentation](https://conda.io/docs/user-guide/tasks/manage-environments.html)."
   ]
  },
  {
   "cell_type": "markdown",
   "metadata": {},
   "source": [
    "# Python The Mega Course"
   ]
  },
  {
   "cell_type": "markdown",
   "metadata": {},
   "source": [
    "## 1. Variables, Data Types"
   ]
  },
  {
   "cell_type": "markdown",
   "metadata": {},
   "source": [
    "#### 1.1 Various ways to use variables and output formatting"
   ]
  },
  {
   "cell_type": "code",
   "execution_count": 1,
   "metadata": {},
   "outputs": [
    {
     "name": "stdout",
     "output_type": "stream",
     "text": [
      "Hello World\n"
     ]
    }
   ],
   "source": [
    "print(\"Hello World\")"
   ]
  },
  {
   "cell_type": "code",
   "execution_count": 2,
   "metadata": {},
   "outputs": [
    {
     "name": "stdout",
     "output_type": "stream",
     "text": [
      "Hello\n"
     ]
    }
   ],
   "source": [
    "greeting = \"Hello\"\n",
    "print(greeting)"
   ]
  },
  {
   "cell_type": "code",
   "execution_count": 7,
   "metadata": {},
   "outputs": [
    {
     "ename": "SyntaxError",
     "evalue": "invalid syntax (<ipython-input-7-fd513e52b12b>, line 1)",
     "output_type": "error",
     "traceback": [
      "\u001b[1;36m  File \u001b[1;32m\"<ipython-input-7-fd513e52b12b>\"\u001b[1;36m, line \u001b[1;32m1\u001b[0m\n\u001b[1;33m    2var   #this is not valid\u001b[0m\n\u001b[1;37m       ^\u001b[0m\n\u001b[1;31mSyntaxError\u001b[0m\u001b[1;31m:\u001b[0m invalid syntax\n"
     ]
    }
   ],
   "source": [
    "2var   #this is not valid"
   ]
  },
  {
   "cell_type": "code",
   "execution_count": 9,
   "metadata": {},
   "outputs": [
    {
     "name": "stdout",
     "output_type": "stream",
     "text": [
      "Your name: Subham\n",
      "Hello Subham\n"
     ]
    }
   ],
   "source": [
    "greeting = \"Hello\"\n",
    "name = input(\"Your name: \")\n",
    "print(greeting + \" \" + name)"
   ]
  },
  {
   "cell_type": "code",
   "execution_count": 10,
   "metadata": {},
   "outputs": [
    {
     "name": "stdout",
     "output_type": "stream",
     "text": [
      "2\n"
     ]
    }
   ],
   "source": [
    "number = 2\n",
    "print(number)"
   ]
  },
  {
   "cell_type": "code",
   "execution_count": 12,
   "metadata": {},
   "outputs": [
    {
     "name": "stdout",
     "output_type": "stream",
     "text": [
      "55\n"
     ]
    }
   ],
   "source": [
    "num1 = 23\n",
    "num2 = 32\n",
    "print(num1 + num2)"
   ]
  },
  {
   "cell_type": "markdown",
   "metadata": {},
   "source": [
    "String can be formatted using the format specifiers as show below to print variables and text on the same line"
   ]
  },
  {
   "cell_type": "code",
   "execution_count": 18,
   "metadata": {},
   "outputs": [
    {
     "name": "stdout",
     "output_type": "stream",
     "text": [
      "Number 1: 23\n",
      "Number 2: 32\n",
      "Number 1 + Number 2: 55\n"
     ]
    }
   ],
   "source": [
    "num1, num2 = 23,32\n",
    "print(\"Number 1: %d\" %(num1))\n",
    "print(\"Number 2: %d\" %(num2))\n",
    "print(\"Number 1 + Number 2: %d\" %(num1 + num2))"
   ]
  },
  {
   "cell_type": "markdown",
   "metadata": {},
   "source": [
    "String can also be formatted as below using the .format string formatter. These are a part of the string .Formatter class"
   ]
  },
  {
   "cell_type": "code",
   "execution_count": 19,
   "metadata": {},
   "outputs": [
    {
     "name": "stdout",
     "output_type": "stream",
     "text": [
      "Number 1: 23\n",
      "Number 2: 32\n",
      "Number 1 + Number 2: 55\n"
     ]
    }
   ],
   "source": [
    "num1, num2 = 23,32\n",
    "print(\"Number 1: {}\" .format(num1))\n",
    "print(\"Number 2: {}\" .format(num2))\n",
    "print(\"Number 1 + Number 2: {}\" .format(num1 + num2))"
   ]
  },
  {
   "cell_type": "markdown",
   "metadata": {},
   "source": [
    "#### 1.2. Variable types"
   ]
  },
  {
   "cell_type": "code",
   "execution_count": 33,
   "metadata": {},
   "outputs": [
    {
     "name": "stdout",
     "output_type": "stream",
     "text": [
      "<class 'str'>\n",
      "<class 'int'>\n",
      "<class 'float'>\n",
      "<class 'str'>\n"
     ]
    }
   ],
   "source": [
    "name = \"Subham\"\n",
    "age = 22\n",
    "gpa = 8.674\n",
    "marks = '498'\n",
    "\n",
    "print(type(name))\n",
    "print(type(age))\n",
    "print(type(gpa))\n",
    "print(type(marks))"
   ]
  },
  {
   "cell_type": "markdown",
   "metadata": {},
   "source": [
    "#### 1.3. Type casting"
   ]
  },
  {
   "cell_type": "code",
   "execution_count": 37,
   "metadata": {},
   "outputs": [
    {
     "name": "stdout",
     "output_type": "stream",
     "text": [
      "<class 'float'>\n",
      "<class 'int'>\n",
      "<class 'int'>\n",
      "Age: 22.000000\n",
      "GPA: 8\n",
      "Marks: 498\n"
     ]
    }
   ],
   "source": [
    "age_fl = float(age)\n",
    "gpa_int = int(gpa)\n",
    "marks_int = int(marks)\n",
    "\n",
    "print(type(age_fl))\n",
    "print(type(gpa_int))\n",
    "print(type(marks_int))\n",
    "\n",
    "print('Age: %f' %(age_fl))\n",
    "print('GPA: %d' %(gpa_int))\n",
    "print('Marks: %d' %(marks_int))"
   ]
  },
  {
   "cell_type": "markdown",
   "metadata": {},
   "source": [
    "## 2. Numbers and Operators"
   ]
  },
  {
   "cell_type": "markdown",
   "metadata": {},
   "source": [
    "### 2.1 Operators\n",
    "\n",
    "In python there are several operators that can be used to perform various operations as show below. Most important is to use the operators correctly with the right pair of parenthesis."
   ]
  },
  {
   "cell_type": "markdown",
   "metadata": {},
   "source": [
    "#### 2.1.1. Arithmetic Operators"
   ]
  },
  {
   "cell_type": "code",
   "execution_count": 3,
   "metadata": {},
   "outputs": [
    {
     "name": "stdout",
     "output_type": "stream",
     "text": [
      "22 + 33 = 55\n",
      "23 - 13 = 10\n",
      "22 * 33 = 726\n",
      "22 / 11 = 2\n",
      "5**2 = 25\n",
      "25//2 = 12\n"
     ]
    },
    {
     "ename": "ZeroDivisionError",
     "evalue": "division by zero",
     "output_type": "error",
     "traceback": [
      "\u001b[1;31m---------------------------------------------------------------------------\u001b[0m",
      "\u001b[1;31mZeroDivisionError\u001b[0m                         Traceback (most recent call last)",
      "\u001b[1;32m<ipython-input-3-37dcae14c8cc>\u001b[0m in \u001b[0;36m<module>\u001b[1;34m()\u001b[0m\n\u001b[0;32m     18\u001b[0m \u001b[1;33m\u001b[0m\u001b[0m\n\u001b[0;32m     19\u001b[0m \u001b[1;31m#Trying out divison by zero\u001b[0m\u001b[1;33m\u001b[0m\u001b[1;33m\u001b[0m\u001b[0m\n\u001b[1;32m---> 20\u001b[1;33m \u001b[0mprint\u001b[0m\u001b[1;33m(\u001b[0m\u001b[1;34m\"22 / 0 = %d\"\u001b[0m \u001b[1;33m%\u001b[0m\u001b[1;33m(\u001b[0m\u001b[1;36m22\u001b[0m \u001b[1;33m/\u001b[0m \u001b[1;36m0\u001b[0m\u001b[1;33m)\u001b[0m\u001b[1;33m)\u001b[0m\u001b[1;33m\u001b[0m\u001b[0m\n\u001b[0m",
      "\u001b[1;31mZeroDivisionError\u001b[0m: division by zero"
     ]
    }
   ],
   "source": [
    "#Addition\n",
    "print(\"22 + 33 = %d\" %(22 + 33))\n",
    "\n",
    "#Subtraction\n",
    "print(\"23 - 13 = %d\" %(23 - 13))\n",
    "\n",
    "#Multiplication\n",
    "print(\"22 * 33 = %d\" %(22 * 33))\n",
    "\n",
    "#Division\n",
    "print(\"22 / 11 = %d\" %(22 / 11))\n",
    "\n",
    "#Exponentiation\n",
    "print(\"5**2 = %d\" %(5**2))\n",
    "\n",
    "#Trying out divison by zero\n",
    "print(\"22 / 0 = %d\" %(22 / 0))"
   ]
  },
  {
   "cell_type": "markdown",
   "metadata": {},
   "source": [
    "#### 2.1.2. Logical Operators"
   ]
  },
  {
   "cell_type": "code",
   "execution_count": 13,
   "metadata": {},
   "outputs": [
    {
     "name": "stdout",
     "output_type": "stream",
     "text": [
      "3 and 0 = 0\n",
      "3 and 1 = 1\n",
      "\n",
      "3 or 0 = 3\n",
      "3 or 1 = 3\n",
      "0 or 0 = 0\n",
      "\n",
      "[xor] 3 ^ 1 = 2\n",
      "\n",
      "not 5 = 0\n",
      "not 0 = 1\n",
      "not 5 = 1\n"
     ]
    }
   ],
   "source": [
    "#Logical AND\n",
    "print(\"3 and 0 = %d\" %(3 and 0))\n",
    "print(\"3 and 1 = %d\\n\" %(3 and 1))\n",
    "\n",
    "#Logical OR\n",
    "print(\"3 or 0 = %d\" %(3 or 0))\n",
    "print(\"3 or 1 = %d\" %(3 or 1))\n",
    "print(\"0 or 0 = %d\\n\" %(0 or 0))\n",
    "\n",
    "#XOR\n",
    "print(\"[xor] 3 ^ 1 = %d\\n\" %(3 ^ 1))\n",
    "\n",
    "#Negation Operator\n",
    "print(\"not 5 = %d\" %(not 5))\n",
    "print(\"not 0 = %d\" %(not 0))\n",
    "print(\"not 5 = %d\" %(not (not 5)))"
   ]
  },
  {
   "cell_type": "markdown",
   "metadata": {},
   "source": [
    "#### 2.1.3. Relational Operators"
   ]
  },
  {
   "cell_type": "code",
   "execution_count": 18,
   "metadata": {},
   "outputs": [
    {
     "name": "stdout",
     "output_type": "stream",
     "text": [
      "5 == 4:  False\n",
      "5 == 5:  True \n",
      "\n",
      "5 != 4:  True\n",
      "5 != 5:  False \n",
      "\n",
      "5 > 4:  True\n",
      "5 >= 5:  True \n",
      "\n",
      "5 < 4:  False\n",
      "5 <= 5:  True \n",
      "\n"
     ]
    }
   ],
   "source": [
    "#Equals to\n",
    "print(\"5 == 4: \", 5 == 4)\n",
    "print(\"5 == 5: \", 5 == 5, \"\\n\")\n",
    "\n",
    "#Not equal to\n",
    "print(\"5 != 4: \", 5 != 4)\n",
    "print(\"5 != 5: \", 5 != 5, \"\\n\")\n",
    "\n",
    "#Greater than and Greater than equal to\n",
    "print(\"5 > 4: \", 5 > 4)\n",
    "print(\"5 >= 5: \", 5 >= 5, \"\\n\")\n",
    "\n",
    "#Lesser than and Lesser than equal to\n",
    "print(\"5 < 4: \", 5 < 4)\n",
    "print(\"5 <= 5: \", 5 <= 5, \"\\n\")"
   ]
  },
  {
   "cell_type": "markdown",
   "metadata": {},
   "source": [
    "## 3. Strings"
   ]
  },
  {
   "cell_type": "code",
   "execution_count": 19,
   "metadata": {},
   "outputs": [
    {
     "name": "stdout",
     "output_type": "stream",
     "text": [
      "Subham\n",
      "Sarda\n",
      "SubhamSarda\n",
      "Subham Sarda\n"
     ]
    }
   ],
   "source": [
    "fname = \"Subham\"\n",
    "lname = \"Sarda\"\n",
    "\n",
    "print(fname)\n",
    "print(lname)\n",
    "print(fname + lname)\n",
    "print(fname + \" \" + lname)"
   ]
  },
  {
   "cell_type": "code",
   "execution_count": 20,
   "metadata": {},
   "outputs": [
    {
     "name": "stdout",
     "output_type": "stream",
     "text": [
      "Length of fname = 6\n"
     ]
    }
   ],
   "source": [
    "print(\"Length of fname = %d\" %(len(fname)))"
   ]
  },
  {
   "cell_type": "code",
   "execution_count": 21,
   "metadata": {},
   "outputs": [
    {
     "data": {
      "text/plain": [
       "['__add__',\n",
       " '__class__',\n",
       " '__contains__',\n",
       " '__delattr__',\n",
       " '__dir__',\n",
       " '__doc__',\n",
       " '__eq__',\n",
       " '__format__',\n",
       " '__ge__',\n",
       " '__getattribute__',\n",
       " '__getitem__',\n",
       " '__getnewargs__',\n",
       " '__gt__',\n",
       " '__hash__',\n",
       " '__init__',\n",
       " '__init_subclass__',\n",
       " '__iter__',\n",
       " '__le__',\n",
       " '__len__',\n",
       " '__lt__',\n",
       " '__mod__',\n",
       " '__mul__',\n",
       " '__ne__',\n",
       " '__new__',\n",
       " '__reduce__',\n",
       " '__reduce_ex__',\n",
       " '__repr__',\n",
       " '__rmod__',\n",
       " '__rmul__',\n",
       " '__setattr__',\n",
       " '__sizeof__',\n",
       " '__str__',\n",
       " '__subclasshook__',\n",
       " 'capitalize',\n",
       " 'casefold',\n",
       " 'center',\n",
       " 'count',\n",
       " 'encode',\n",
       " 'endswith',\n",
       " 'expandtabs',\n",
       " 'find',\n",
       " 'format',\n",
       " 'format_map',\n",
       " 'index',\n",
       " 'isalnum',\n",
       " 'isalpha',\n",
       " 'isdecimal',\n",
       " 'isdigit',\n",
       " 'isidentifier',\n",
       " 'islower',\n",
       " 'isnumeric',\n",
       " 'isprintable',\n",
       " 'isspace',\n",
       " 'istitle',\n",
       " 'isupper',\n",
       " 'join',\n",
       " 'ljust',\n",
       " 'lower',\n",
       " 'lstrip',\n",
       " 'maketrans',\n",
       " 'partition',\n",
       " 'replace',\n",
       " 'rfind',\n",
       " 'rindex',\n",
       " 'rjust',\n",
       " 'rpartition',\n",
       " 'rsplit',\n",
       " 'rstrip',\n",
       " 'split',\n",
       " 'splitlines',\n",
       " 'startswith',\n",
       " 'strip',\n",
       " 'swapcase',\n",
       " 'title',\n",
       " 'translate',\n",
       " 'upper',\n",
       " 'zfill']"
      ]
     },
     "execution_count": 21,
     "metadata": {},
     "output_type": "execute_result"
    }
   ],
   "source": [
    "dir(fname)"
   ]
  },
  {
   "cell_type": "code",
   "execution_count": 39,
   "metadata": {
    "scrolled": true
   },
   "outputs": [
    {
     "data": {
      "text/plain": [
       "'I am learning data science and machine learning with python'"
      ]
     },
     "execution_count": 39,
     "metadata": {},
     "output_type": "execute_result"
    }
   ],
   "source": [
    "str = \"i am learning data science and machine learning with python\"\n",
    "str.capitalize()"
   ]
  },
  {
   "cell_type": "code",
   "execution_count": 37,
   "metadata": {},
   "outputs": [
    {
     "data": {
      "text/plain": [
       "'I Am Learning Data Science And Machine Learning With Python'"
      ]
     },
     "execution_count": 37,
     "metadata": {},
     "output_type": "execute_result"
    }
   ],
   "source": [
    "str.title()"
   ]
  },
  {
   "cell_type": "code",
   "execution_count": 28,
   "metadata": {},
   "outputs": [
    {
     "data": {
      "text/plain": [
       "'I AM LEARNING DATA SCIENCE AND MACHINE LEARNING WITH PYTHON'"
      ]
     },
     "execution_count": 28,
     "metadata": {},
     "output_type": "execute_result"
    }
   ],
   "source": [
    "str.upper()"
   ]
  },
  {
   "cell_type": "code",
   "execution_count": 29,
   "metadata": {},
   "outputs": [
    {
     "data": {
      "text/plain": [
       "'i am learning data science and machine learning with python'"
      ]
     },
     "execution_count": 29,
     "metadata": {},
     "output_type": "execute_result"
    }
   ],
   "source": [
    "str.lower()"
   ]
  },
  {
   "cell_type": "code",
   "execution_count": 30,
   "metadata": {},
   "outputs": [
    {
     "data": {
      "text/plain": [
       "'I AM LEARNING DATA SCIENCE AND MACHINE LEARNING WITH PYTHON'"
      ]
     },
     "execution_count": 30,
     "metadata": {},
     "output_type": "execute_result"
    }
   ],
   "source": [
    "str.swapcase()"
   ]
  },
  {
   "cell_type": "code",
   "execution_count": 31,
   "metadata": {},
   "outputs": [
    {
     "data": {
      "text/plain": [
       "['i',\n",
       " 'am',\n",
       " 'learning',\n",
       " 'data',\n",
       " 'science',\n",
       " 'and',\n",
       " 'machine',\n",
       " 'learning',\n",
       " 'with',\n",
       " 'python']"
      ]
     },
     "execution_count": 31,
     "metadata": {},
     "output_type": "execute_result"
    }
   ],
   "source": [
    "str.split(\" \")"
   ]
  },
  {
   "cell_type": "code",
   "execution_count": 32,
   "metadata": {},
   "outputs": [
    {
     "data": {
      "text/plain": [
       "' '"
      ]
     },
     "execution_count": 32,
     "metadata": {},
     "output_type": "execute_result"
    }
   ],
   "source": [
    "str[1]"
   ]
  },
  {
   "cell_type": "code",
   "execution_count": 33,
   "metadata": {},
   "outputs": [
    {
     "data": {
      "text/plain": [
       "'i'"
      ]
     },
     "execution_count": 33,
     "metadata": {},
     "output_type": "execute_result"
    }
   ],
   "source": [
    "str[0]"
   ]
  },
  {
   "cell_type": "code",
   "execution_count": 34,
   "metadata": {},
   "outputs": [
    {
     "data": {
      "text/plain": [
       "'I am learnIng data scIence and machIne learnIng wIth python'"
      ]
     },
     "execution_count": 34,
     "metadata": {},
     "output_type": "execute_result"
    }
   ],
   "source": [
    "str.replace('i', 'I')"
   ]
  },
  {
   "cell_type": "code",
   "execution_count": 35,
   "metadata": {},
   "outputs": [
    {
     "data": {
      "text/plain": [
       "'I am learning data science and machine learning with python'"
      ]
     },
     "execution_count": 35,
     "metadata": {},
     "output_type": "execute_result"
    }
   ],
   "source": [
    "str.replace('i', 'I', 1)"
   ]
  },
  {
   "cell_type": "code",
   "execution_count": 36,
   "metadata": {},
   "outputs": [
    {
     "data": {
      "text/plain": [
       "'I am learnIng data science and machine learning with python'"
      ]
     },
     "execution_count": 36,
     "metadata": {},
     "output_type": "execute_result"
    }
   ],
   "source": [
    "str.replace('i', 'I', 2)"
   ]
  },
  {
   "cell_type": "code",
   "execution_count": 43,
   "metadata": {},
   "outputs": [
    {
     "data": {
      "text/plain": [
       "5"
      ]
     },
     "execution_count": 43,
     "metadata": {},
     "output_type": "execute_result"
    }
   ],
   "source": [
    "str.index('learning')"
   ]
  },
  {
   "cell_type": "code",
   "execution_count": 48,
   "metadata": {},
   "outputs": [
    {
     "data": {
      "text/plain": [
       "7"
      ]
     },
     "execution_count": 48,
     "metadata": {},
     "output_type": "execute_result"
    }
   ],
   "source": [
    "str.count('a')"
   ]
  },
  {
   "cell_type": "code",
   "execution_count": 51,
   "metadata": {},
   "outputs": [
    {
     "data": {
      "text/plain": [
       "['i ', ' learning data science and machine learning with python']"
      ]
     },
     "execution_count": 51,
     "metadata": {},
     "output_type": "execute_result"
    }
   ],
   "source": [
    "str.split(\"am\")"
   ]
  },
  {
   "cell_type": "code",
   "execution_count": 52,
   "metadata": {},
   "outputs": [
    {
     "data": {
      "text/plain": [
       "'i am '"
      ]
     },
     "execution_count": 52,
     "metadata": {},
     "output_type": "execute_result"
    }
   ],
   "source": [
    "str[:5]"
   ]
  },
  {
   "cell_type": "code",
   "execution_count": 53,
   "metadata": {},
   "outputs": [
    {
     "data": {
      "text/plain": [
       "'ython'"
      ]
     },
     "execution_count": 53,
     "metadata": {},
     "output_type": "execute_result"
    }
   ],
   "source": [
    "str[-5:]"
   ]
  },
  {
   "cell_type": "code",
   "execution_count": 54,
   "metadata": {},
   "outputs": [
    {
     "data": {
      "text/plain": [
       "'i am learning data science and machine learning with p'"
      ]
     },
     "execution_count": 54,
     "metadata": {},
     "output_type": "execute_result"
    }
   ],
   "source": [
    "str[:-5]"
   ]
  },
  {
   "cell_type": "code",
   "execution_count": 55,
   "metadata": {},
   "outputs": [
    {
     "data": {
      "text/plain": [
       "'learning data science and machine learning with python'"
      ]
     },
     "execution_count": 55,
     "metadata": {},
     "output_type": "execute_result"
    }
   ],
   "source": [
    "str[5:]"
   ]
  },
  {
   "cell_type": "code",
   "execution_count": 56,
   "metadata": {},
   "outputs": [
    {
     "data": {
      "text/plain": [
       "'learni'"
      ]
     },
     "execution_count": 56,
     "metadata": {},
     "output_type": "execute_result"
    }
   ],
   "source": [
    "str[5:11]"
   ]
  },
  {
   "cell_type": "markdown",
   "metadata": {},
   "source": [
    "## 4. Lists"
   ]
  },
  {
   "cell_type": "code",
   "execution_count": 64,
   "metadata": {},
   "outputs": [
    {
     "data": {
      "text/plain": [
       "[0, 1, 2, 3, 4]"
      ]
     },
     "execution_count": 64,
     "metadata": {},
     "output_type": "execute_result"
    }
   ],
   "source": [
    "myList1 = [0, 1, 2, 3, 4]\n",
    "myList1"
   ]
  },
  {
   "cell_type": "code",
   "execution_count": 65,
   "metadata": {},
   "outputs": [
    {
     "data": {
      "text/plain": [
       "[5, 6, 7, 8, 9]"
      ]
     },
     "execution_count": 65,
     "metadata": {},
     "output_type": "execute_result"
    }
   ],
   "source": [
    "myList2 = [5, 6, 7, 8, 9]\n",
    "myList2"
   ]
  },
  {
   "cell_type": "code",
   "execution_count": 66,
   "metadata": {},
   "outputs": [
    {
     "data": {
      "text/plain": [
       "[0, 1, 2, 3, 4, 5, 6, 7, 8, 9]"
      ]
     },
     "execution_count": 66,
     "metadata": {},
     "output_type": "execute_result"
    }
   ],
   "source": [
    "myList = myList1 + myList2\n",
    "myList"
   ]
  },
  {
   "cell_type": "code",
   "execution_count": 87,
   "metadata": {},
   "outputs": [
    {
     "data": {
      "text/plain": [
       "6"
      ]
     },
     "execution_count": 87,
     "metadata": {},
     "output_type": "execute_result"
    }
   ],
   "source": [
    "#Returns the index of element 5 in the list\n",
    "myList.index(5)"
   ]
  },
  {
   "cell_type": "code",
   "execution_count": 78,
   "metadata": {},
   "outputs": [
    {
     "data": {
      "text/plain": [
       "[0, 1, 2, 3, 4, 5, 6, 7, 8, 9, 10, 10]"
      ]
     },
     "execution_count": 78,
     "metadata": {},
     "output_type": "execute_result"
    }
   ],
   "source": [
    "#Data is always appended at the end of the list\n",
    "myList.append(10)\n",
    "myList"
   ]
  },
  {
   "cell_type": "code",
   "execution_count": 84,
   "metadata": {},
   "outputs": [
    {
     "data": {
      "text/plain": [
       "[0, 1, 2, 3, 4, 5, 6, 7, 8, 9, 10]"
      ]
     },
     "execution_count": 84,
     "metadata": {},
     "output_type": "execute_result"
    }
   ],
   "source": [
    "#deleting element from index 10\n",
    "myList.pop(10)\n",
    "myList"
   ]
  },
  {
   "cell_type": "code",
   "execution_count": 85,
   "metadata": {},
   "outputs": [
    {
     "data": {
      "text/plain": [
       "[0, 1, 2, 3, 4, 30, 5, 6, 7, 8, 9, 10]"
      ]
     },
     "execution_count": 85,
     "metadata": {},
     "output_type": "execute_result"
    }
   ],
   "source": [
    "#inserting 30 at index 5\n",
    "myList.insert(5, 30)\n",
    "myList"
   ]
  },
  {
   "cell_type": "code",
   "execution_count": 88,
   "metadata": {},
   "outputs": [
    {
     "data": {
      "text/plain": [
       "[0, 1, 2, 3, 4, 30, 5, 6, 7, 8, 9]"
      ]
     },
     "execution_count": 88,
     "metadata": {},
     "output_type": "execute_result"
    }
   ],
   "source": [
    "#By default deletion happens at the tail\n",
    "myList.pop()\n",
    "myList"
   ]
  },
  {
   "cell_type": "code",
   "execution_count": 1,
   "metadata": {},
   "outputs": [
    {
     "name": "stdout",
     "output_type": "stream",
     "text": [
      "[['Subham Sarda'], ['DoB', '16/05/1996'], ['SIT Passout Year', 2019], ['Current GPA', 8.764]]\n"
     ]
    }
   ],
   "source": [
    "customList = [[\"Subham Sarda\"], [\"DoB\", \"16/05/1996\"], [\"SIT Passout Year\", 2019], [\"Current GPA\", 8.764]]\n",
    "print(customList)"
   ]
  },
  {
   "cell_type": "markdown",
   "metadata": {},
   "source": [
    "## 5. Tuples"
   ]
  },
  {
   "cell_type": "markdown",
   "metadata": {},
   "source": [
    "* __Lists__ are mutable tuples are not\n",
    "* __Tuples__ are declared as ```tupleName = (Item1, Item2, .... , ItemN)```, __list__ is declared as ```listName = [Item1, Item2, .... , ItemN]```\n",
    "* Functions return tuples\n",
    "* __Tuples__ are smaller in size than __lists__"
   ]
  },
  {
   "cell_type": "code",
   "execution_count": 4,
   "metadata": {},
   "outputs": [
    {
     "name": "stdout",
     "output_type": "stream",
     "text": [
      "(1, 2, 3, 4, 5, 6, 7, 8, 9, 10)\n"
     ]
    },
    {
     "ename": "AttributeError",
     "evalue": "'tuple' object has no attribute 'append'",
     "output_type": "error",
     "traceback": [
      "\u001b[1;31m---------------------------------------------------------------------------\u001b[0m",
      "\u001b[1;31mAttributeError\u001b[0m                            Traceback (most recent call last)",
      "\u001b[1;32m<ipython-input-4-19c1b97e13e4>\u001b[0m in \u001b[0;36m<module>\u001b[1;34m()\u001b[0m\n\u001b[0;32m      3\u001b[0m \u001b[1;33m\u001b[0m\u001b[0m\n\u001b[0;32m      4\u001b[0m \u001b[0mprint\u001b[0m\u001b[1;33m(\u001b[0m\u001b[0mtpl1\u001b[0m \u001b[1;33m+\u001b[0m \u001b[0mtpl2\u001b[0m\u001b[1;33m)\u001b[0m\u001b[1;33m\u001b[0m\u001b[0m\n\u001b[1;32m----> 5\u001b[1;33m \u001b[0mtpl1\u001b[0m\u001b[1;33m.\u001b[0m\u001b[0mappend\u001b[0m\u001b[1;33m(\u001b[0m\u001b[1;36m5\u001b[0m\u001b[1;33m)\u001b[0m\u001b[1;33m\u001b[0m\u001b[0m\n\u001b[0m",
      "\u001b[1;31mAttributeError\u001b[0m: 'tuple' object has no attribute 'append'"
     ]
    }
   ],
   "source": [
    "tpl1 = (1, 2, 3, 4, 5)\n",
    "tpl2 = (6, 7, 8, 9, 10)\n",
    "\n",
    "print(tpl1 + tpl2)\n",
    "tpl1.append(5)"
   ]
  },
  {
   "cell_type": "code",
   "execution_count": 5,
   "metadata": {},
   "outputs": [
    {
     "data": {
      "text/plain": [
       "['__add__',\n",
       " '__class__',\n",
       " '__contains__',\n",
       " '__delattr__',\n",
       " '__dir__',\n",
       " '__doc__',\n",
       " '__eq__',\n",
       " '__format__',\n",
       " '__ge__',\n",
       " '__getattribute__',\n",
       " '__getitem__',\n",
       " '__getnewargs__',\n",
       " '__gt__',\n",
       " '__hash__',\n",
       " '__init__',\n",
       " '__init_subclass__',\n",
       " '__iter__',\n",
       " '__le__',\n",
       " '__len__',\n",
       " '__lt__',\n",
       " '__mul__',\n",
       " '__ne__',\n",
       " '__new__',\n",
       " '__reduce__',\n",
       " '__reduce_ex__',\n",
       " '__repr__',\n",
       " '__rmul__',\n",
       " '__setattr__',\n",
       " '__sizeof__',\n",
       " '__str__',\n",
       " '__subclasshook__',\n",
       " 'count',\n",
       " 'index']"
      ]
     },
     "execution_count": 5,
     "metadata": {},
     "output_type": "execute_result"
    }
   ],
   "source": [
    "dir(tpl1)"
   ]
  },
  {
   "cell_type": "code",
   "execution_count": 8,
   "metadata": {},
   "outputs": [
    {
     "data": {
      "text/plain": [
       "1"
      ]
     },
     "execution_count": 8,
     "metadata": {},
     "output_type": "execute_result"
    }
   ],
   "source": [
    "#Counts the occurences of data item in the tuple\n",
    "tpl1.count(5)"
   ]
  },
  {
   "cell_type": "code",
   "execution_count": 11,
   "metadata": {},
   "outputs": [
    {
     "data": {
      "text/plain": [
       "4"
      ]
     },
     "execution_count": 11,
     "metadata": {},
     "output_type": "execute_result"
    }
   ],
   "source": [
    "#Gives the position of data item in the tuple\n",
    "tpl2.index(10)"
   ]
  },
  {
   "cell_type": "markdown",
   "metadata": {},
   "source": [
    "## 6. Dictionary"
   ]
  },
  {
   "cell_type": "markdown",
   "metadata": {},
   "source": [
    "Dictionaries are data structures in Python with key value pairs like ```{\"Key\" : \"Values\"}```. These are unoredered collections of data, reason being that here we are not concerened with whatever the order is, we just need the value which can be accessed by using the corresponding key."
   ]
  },
  {
   "cell_type": "code",
   "execution_count": 18,
   "metadata": {},
   "outputs": [
    {
     "name": "stdout",
     "output_type": "stream",
     "text": [
      "{'Name': 'Subham Sarda', 'College': 'SIT', 'Semester': 7, 'GPA': 8.764, 'Company': 'Intel'}\n"
     ]
    }
   ],
   "source": [
    "student = {\"Name\" : \"Subham Sarda\", \"College\" : \"SIT\", \"Semester\" : 7, \"GPA\" : 8.764, \"Company\" : \"Intel\"}\n",
    "print(student)"
   ]
  },
  {
   "cell_type": "code",
   "execution_count": 20,
   "metadata": {},
   "outputs": [
    {
     "name": "stdout",
     "output_type": "stream",
     "text": [
      "Student Name: Subham Sarda\n",
      "College Name: SIT\n",
      "Semester: 7\n",
      "Student GPA: 8.764\n",
      "Employed at: Intel\n"
     ]
    }
   ],
   "source": [
    "print(\"Student Name: %s\" %(student[\"Name\"]))\n",
    "print(\"College Name: %s\" %(student[\"College\"]))\n",
    "print(\"Semester: %s\" %(student[\"Semester\"]))\n",
    "print(\"Student GPA: %s\" %(student[\"GPA\"]))\n",
    "print(\"Employed at: %s\" %(student[\"Company\"]))"
   ]
  },
  {
   "cell_type": "code",
   "execution_count": 16,
   "metadata": {},
   "outputs": [
    {
     "data": {
      "text/plain": [
       "dict"
      ]
     },
     "execution_count": 16,
     "metadata": {},
     "output_type": "execute_result"
    }
   ],
   "source": [
    "type(student)"
   ]
  },
  {
   "cell_type": "code",
   "execution_count": 19,
   "metadata": {},
   "outputs": [
    {
     "data": {
      "text/plain": [
       "float"
      ]
     },
     "execution_count": 19,
     "metadata": {},
     "output_type": "execute_result"
    }
   ],
   "source": [
    "type(student[\"GPA\"])"
   ]
  },
  {
   "cell_type": "code",
   "execution_count": 21,
   "metadata": {},
   "outputs": [],
   "source": [
    "student[\"Places Visited\"] = [\"Siliguri\", \"Kolkata\", \"Allahabad\", \"Jaipur\"]"
   ]
  },
  {
   "cell_type": "code",
   "execution_count": 22,
   "metadata": {},
   "outputs": [
    {
     "name": "stdout",
     "output_type": "stream",
     "text": [
      "{'Name': 'Subham Sarda', 'College': 'SIT', 'Semester': 7, 'GPA': 8.764, 'Company': 'Intel', 'Places Visited': ['Siliguri', 'Kolkata', 'Allahabad', 'Jaipur']}\n"
     ]
    }
   ],
   "source": [
    "print(student)"
   ]
  },
  {
   "cell_type": "markdown",
   "metadata": {},
   "source": [
    "## 7. Functions"
   ]
  },
  {
   "cell_type": "markdown",
   "metadata": {},
   "source": [
    "Functions are parts of code that justify modularity of a program. In python the syntax of writing a function is as follows:\n",
    "```def functionName([functionParameter(s)]):\n",
    "        functionBody\n",
    "        return statement (if the function has to return anything)```"
   ]
  },
  {
   "cell_type": "code",
   "execution_count": 25,
   "metadata": {},
   "outputs": [
    {
     "name": "stdout",
     "output_type": "stream",
     "text": [
      "Sum = 11\n"
     ]
    }
   ],
   "source": [
    "def sum(num1, num2):\n",
    "    return num1 + num2\n",
    "\n",
    "print(\"Sum = %d\" %(sum(5, 6)))"
   ]
  },
  {
   "cell_type": "markdown",
   "metadata": {},
   "source": [
    "There can also be multiple functions within a program as illustrated in the folowwing piece of code which makes a basic calculator."
   ]
  },
  {
   "cell_type": "code",
   "execution_count": 30,
   "metadata": {},
   "outputs": [
    {
     "name": "stdout",
     "output_type": "stream",
     "text": [
      "32 + 43 = 75\n",
      "322 - 43 = 279\n",
      "32 * 43 = 1376\n",
      "322 / 43 = 7.488372\n",
      "5 / 0 = NaN\n"
     ]
    }
   ],
   "source": [
    "def sum(num1, num2):\n",
    "    return num1 + num2\n",
    "\n",
    "def difference(num1, num2):\n",
    "    return num1 - num2\n",
    "\n",
    "def product(num1, num2):\n",
    "    return num1 * num2\n",
    "\n",
    "def division(num1, num2):\n",
    "    try:\n",
    "        return num1 / num2\n",
    "    except ZeroDivisionError:\n",
    "        return \"NaN\"\n",
    "\n",
    "print(\"32 + 43 = %d\" %(sum(32,43)))\n",
    "print(\"322 - 43 = %d\" %(difference(322,43)))\n",
    "print(\"32 * 43 = %d\" %(product(32,43)))\n",
    "print(\"322 / 43 = %f\" %(division(322,43)))\n",
    "print(\"5 / 0 = %s\" %(division(5,0)))"
   ]
  },
  {
   "cell_type": "markdown",
   "metadata": {},
   "source": [
    "Functions can also be supplied with default arguments, that means when the function is defined some value can already be assigned to the function parameters that can be handy in cases where the user doesn't enter any value or forgets to enter a value or he may not even have to enter a value. \n",
    "\n",
    "One thing must be made a note of is that the default parameter must be the last parameter in the function definition, otherwise the interpreter will get confused about which one is the default argument and which one not. Let's see that in the following code:"
   ]
  },
  {
   "cell_type": "code",
   "execution_count": 31,
   "metadata": {},
   "outputs": [
    {
     "name": "stdout",
     "output_type": "stream",
     "text": [
      "Simple Interest = 1200.000000\n"
     ]
    }
   ],
   "source": [
    "def simpleInterest(p, t, r = 0.03):\n",
    "    return p*r*t\n",
    "\n",
    "print(\"Simple Interest = %f\" %(simpleInterest(20000, 2, 0.03)))"
   ]
  },
  {
   "cell_type": "code",
   "execution_count": 32,
   "metadata": {},
   "outputs": [
    {
     "name": "stdout",
     "output_type": "stream",
     "text": [
      "Simple Interest = 1200.000000\n"
     ]
    }
   ],
   "source": [
    "def simpleInterest(p, t, r = 0.03):\n",
    "    return p*r*t\n",
    "\n",
    "print(\"Simple Interest = %f\" %(simpleInterest(20000, 2)))"
   ]
  },
  {
   "cell_type": "code",
   "execution_count": 34,
   "metadata": {},
   "outputs": [
    {
     "ename": "SyntaxError",
     "evalue": "non-default argument follows default argument (<ipython-input-34-d45221154c26>, line 2)",
     "output_type": "error",
     "traceback": [
      "\u001b[1;36m  File \u001b[1;32m\"<ipython-input-34-d45221154c26>\"\u001b[1;36m, line \u001b[1;32m2\u001b[0m\n\u001b[1;33m    def simpleInterest(p, r = 0.03, t):\u001b[0m\n\u001b[1;37m                      ^\u001b[0m\n\u001b[1;31mSyntaxError\u001b[0m\u001b[1;31m:\u001b[0m non-default argument follows default argument\n"
     ]
    }
   ],
   "source": [
    "#This code would give a Syntactical Error\n",
    "def simpleInterest(p, r = 0.03, t):\n",
    "    return p*r*t\n",
    "\n",
    "print(\"Simple Interest = %f\" %(simpleInterest(20000, 2, 0.03)))"
   ]
  },
  {
   "cell_type": "markdown",
   "metadata": {},
   "source": [
    "## 8. Conditionals and Loops"
   ]
  },
  {
   "cell_type": "code",
   "execution_count": 35,
   "metadata": {},
   "outputs": [
    {
     "name": "stdout",
     "output_type": "stream",
     "text": [
      "Door Open\n"
     ]
    }
   ],
   "source": [
    "door = True\n",
    "if door:\n",
    "    print(\"Door Open\")\n",
    "else:\n",
    "    print(\"Door Closed\")"
   ]
  },
  {
   "cell_type": "code",
   "execution_count": 36,
   "metadata": {},
   "outputs": [
    {
     "name": "stdout",
     "output_type": "stream",
     "text": [
      "Door Open\n"
     ]
    }
   ],
   "source": [
    "door = 1\n",
    "if door:\n",
    "    print(\"Door Open\")\n",
    "else:\n",
    "    print(\"Door Closed\")"
   ]
  },
  {
   "cell_type": "code",
   "execution_count": 46,
   "metadata": {},
   "outputs": [
    {
     "name": "stdout",
     "output_type": "stream",
     "text": [
      "Already full, door closed now!!\n"
     ]
    }
   ],
   "source": [
    "door = 0\n",
    "people = 25\n",
    "\n",
    "if people >= 25 and door == 1:\n",
    "    print(\"Too crowdy. Door closing now.\")\n",
    "    door = 0\n",
    "elif not door:\n",
    "    print(\"Already full, door closed now!!\")\n",
    "else:\n",
    "    print(\"Get in! Just %d more people allowed.\" %(25-people))"
   ]
  },
  {
   "cell_type": "code",
   "execution_count": 47,
   "metadata": {},
   "outputs": [
    {
     "name": "stdout",
     "output_type": "stream",
     "text": [
      "1\n",
      "4\n",
      "9\n",
      "16\n"
     ]
    }
   ],
   "source": [
    "for i in range(1,5):\n",
    "    print(i*i)"
   ]
  },
  {
   "cell_type": "code",
   "execution_count": 3,
   "metadata": {},
   "outputs": [
    {
     "name": "stdout",
     "output_type": "stream",
     "text": [
      "New York\n",
      "London\n",
      "Los Angeles\n",
      "Mumbai\n",
      "Shanghai\n",
      "Dhaka\n"
     ]
    }
   ],
   "source": [
    "cities = ['New York', 'London', 'Los Angeles', 'Mumbai', 'Shanghai', 'Dhaka']\n",
    "for city in cities:\n",
    "    print(city)"
   ]
  },
  {
   "cell_type": "code",
   "execution_count": 2,
   "metadata": {},
   "outputs": [
    {
     "name": "stdout",
     "output_type": "stream",
     "text": [
      "10! = 3628800\n"
     ]
    }
   ],
   "source": [
    "i = 10\n",
    "fact = 1\n",
    "while i>=1:\n",
    "    fact = fact*i\n",
    "    i= i-1\n",
    "print(\"10! = %d\" %fact)"
   ]
  },
  {
   "cell_type": "code",
   "execution_count": 4,
   "metadata": {},
   "outputs": [
    {
     "name": "stdout",
     "output_type": "stream",
     "text": [
      "Player Name: Virat Kohli\n",
      "Player Team: India\n",
      "\n",
      "Player Name: Steve Smith\n",
      "Player Team: Australia\n",
      "\n",
      "Player Name: Faf du Plessis\n",
      "Player Team: South Africa\n",
      "\n",
      "Player Name: Thisara Perera\n",
      "Player Team: Sri Lanka\n",
      "\n"
     ]
    }
   ],
   "source": [
    "names = [\"Virat Kohli\", \"Steve Smith\", \"Faf du Plessis\", \"Thisara Perera\"]\n",
    "teams = [\"India\", \"Australia\", \"South Africa\", \"Sri Lanka\"]\n",
    "\n",
    "for player,team in zip(names, teams):\n",
    "    print(\"Player Name: %s\" %player)\n",
    "    print(\"Player Team: %s\" %team)\n",
    "    print()"
   ]
  },
  {
   "cell_type": "markdown",
   "metadata": {},
   "source": [
    "## 9. File Handling"
   ]
  },
  {
   "cell_type": "code",
   "execution_count": null,
   "metadata": {},
   "outputs": [],
   "source": [
    "#to open a file in write mode. If the file doesn't already exist it will be created then opened\n",
    "file = open(\"fileName.txt\", \"w\")\n",
    "\n",
    "#if you try to write for the second time, the first change will be overwritten as the file is in write mode\n",
    "file.write(\"Hello World\")\n",
    "\n",
    "#for the change to take effect, the file must be closed\n",
    "file.close()"
   ]
  },
  {
   "cell_type": "code",
   "execution_count": null,
   "metadata": {},
   "outputs": [],
   "source": [
    "#to open a file in append mode\n",
    "file = open(\"fileName.txt\", \"a\")\n",
    "\n",
    "#now the previous content will remain intact as the text is now getting appended\n",
    "file.write(\"Hello World\")\n",
    "\n",
    "#for the change to take effect, the file must be closed again\n",
    "file.close()"
   ]
  },
  {
   "cell_type": "code",
   "execution_count": null,
   "metadata": {},
   "outputs": [],
   "source": [
    "#to open a file in append mode\n",
    "file = open(\"fileName.txt\", \"r\")\n",
    "\n",
    "#now we are trying to read from the file\n",
    "content = file.read()\n",
    "\n",
    "#once the file has been read, if you try and read it yet again, you won't get anything as the file pointer has reached to the end\n",
    "#thus we move the pointer to the beginning of the file as follows\n",
    "file.seek(0)\n",
    "\n",
    "#now we close the file\n",
    "file.close()"
   ]
  },
  {
   "cell_type": "markdown",
   "metadata": {},
   "source": [
    "## 10. Date and Time"
   ]
  },
  {
   "cell_type": "code",
   "execution_count": 49,
   "metadata": {},
   "outputs": [],
   "source": [
    "import datetime as dt"
   ]
  },
  {
   "cell_type": "code",
   "execution_count": 66,
   "metadata": {},
   "outputs": [
    {
     "name": "stdout",
     "output_type": "stream",
     "text": [
      "Date: 08 June 2018, Friday \n",
      "Time: 22:01:48 [10:01:48 PM]\n"
     ]
    }
   ],
   "source": [
    "dateTime = dt.datetime.now()\n",
    "print(dateTime.strftime(\"Date: %d %B %Y, %A \\nTime: %H:%M:%S [%I:%M:%S %p]\"))"
   ]
  },
  {
   "cell_type": "markdown",
   "metadata": {},
   "source": [
    "The above example shows the basic date time formatting, the entire formatting is available [here](http://strftime.org/)"
   ]
  },
  {
   "cell_type": "code",
   "execution_count": 67,
   "metadata": {},
   "outputs": [],
   "source": [
    "import calendar as cal"
   ]
  },
  {
   "cell_type": "code",
   "execution_count": 74,
   "metadata": {},
   "outputs": [
    {
     "name": "stdout",
     "output_type": "stream",
     "text": [
      "                                  2018\n",
      "\n",
      "      January                   February                   March\n",
      "Mo Tu We Th Fr Sa Su      Mo Tu We Th Fr Sa Su      Mo Tu We Th Fr Sa Su\n",
      " 1  2  3  4  5  6  7                1  2  3  4                1  2  3  4\n",
      " 8  9 10 11 12 13 14       5  6  7  8  9 10 11       5  6  7  8  9 10 11\n",
      "15 16 17 18 19 20 21      12 13 14 15 16 17 18      12 13 14 15 16 17 18\n",
      "22 23 24 25 26 27 28      19 20 21 22 23 24 25      19 20 21 22 23 24 25\n",
      "29 30 31                  26 27 28                  26 27 28 29 30 31\n",
      "\n",
      "       April                      May                       June\n",
      "Mo Tu We Th Fr Sa Su      Mo Tu We Th Fr Sa Su      Mo Tu We Th Fr Sa Su\n",
      "                   1          1  2  3  4  5  6                   1  2  3\n",
      " 2  3  4  5  6  7  8       7  8  9 10 11 12 13       4  5  6  7  8  9 10\n",
      " 9 10 11 12 13 14 15      14 15 16 17 18 19 20      11 12 13 14 15 16 17\n",
      "16 17 18 19 20 21 22      21 22 23 24 25 26 27      18 19 20 21 22 23 24\n",
      "23 24 25 26 27 28 29      28 29 30 31               25 26 27 28 29 30\n",
      "30\n",
      "\n",
      "        July                     August                  September\n",
      "Mo Tu We Th Fr Sa Su      Mo Tu We Th Fr Sa Su      Mo Tu We Th Fr Sa Su\n",
      "                   1             1  2  3  4  5                      1  2\n",
      " 2  3  4  5  6  7  8       6  7  8  9 10 11 12       3  4  5  6  7  8  9\n",
      " 9 10 11 12 13 14 15      13 14 15 16 17 18 19      10 11 12 13 14 15 16\n",
      "16 17 18 19 20 21 22      20 21 22 23 24 25 26      17 18 19 20 21 22 23\n",
      "23 24 25 26 27 28 29      27 28 29 30 31            24 25 26 27 28 29 30\n",
      "30 31\n",
      "\n",
      "      October                   November                  December\n",
      "Mo Tu We Th Fr Sa Su      Mo Tu We Th Fr Sa Su      Mo Tu We Th Fr Sa Su\n",
      " 1  2  3  4  5  6  7                1  2  3  4                      1  2\n",
      " 8  9 10 11 12 13 14       5  6  7  8  9 10 11       3  4  5  6  7  8  9\n",
      "15 16 17 18 19 20 21      12 13 14 15 16 17 18      10 11 12 13 14 15 16\n",
      "22 23 24 25 26 27 28      19 20 21 22 23 24 25      17 18 19 20 21 22 23\n",
      "29 30 31                  26 27 28 29 30            24 25 26 27 28 29 30\n",
      "                                                    31\n",
      "\n"
     ]
    }
   ],
   "source": [
    "print(cal.calendar(2018, 1))"
   ]
  },
  {
   "cell_type": "code",
   "execution_count": 79,
   "metadata": {},
   "outputs": [
    {
     "data": {
      "text/plain": [
       "False"
      ]
     },
     "execution_count": 79,
     "metadata": {},
     "output_type": "execute_result"
    }
   ],
   "source": [
    "# Checks whether 2018 is leap or not\n",
    "cal.isleap(2018)"
   ]
  },
  {
   "cell_type": "code",
   "execution_count": 86,
   "metadata": {},
   "outputs": [
    {
     "name": "stdout",
     "output_type": "stream",
     "text": [
      "          February 2018\n",
      "Mon  Tue  Wed  Thu  Fri  Sat  Sun\n",
      "                 1    2    3    4\n",
      "  5    6    7    8    9   10   11\n",
      " 12   13   14   15   16   17   18\n",
      " 19   20   21   22   23   24   25\n",
      " 26   27   28\n",
      "\n"
     ]
    }
   ],
   "source": [
    "#Prints the calendar for a particular month\n",
    "print(cal.month(2018, 2, 4, 1))"
   ]
  }
 ],
 "metadata": {
  "kernelspec": {
   "display_name": "Python 3",
   "language": "python",
   "name": "python3"
  },
  "language_info": {
   "codemirror_mode": {
    "name": "ipython",
    "version": 3
   },
   "file_extension": ".py",
   "mimetype": "text/x-python",
   "name": "python",
   "nbconvert_exporter": "python",
   "pygments_lexer": "ipython3",
   "version": "3.6.4"
  }
 },
 "nbformat": 4,
 "nbformat_minor": 2
}
